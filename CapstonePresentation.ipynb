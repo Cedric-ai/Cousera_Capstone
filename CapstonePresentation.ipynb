{
    "cells": [
        {
            "metadata": {
                "collapsed": true
            },
            "cell_type": "markdown",
            "source": "<h1>Where should the company build their next store?</h1>"
        },
        {
            "metadata": {},
            "cell_type": "markdown",
            "source": "<h3>Introduction</h3>\nA big fast-food chain wants to open a new store in Toronto.   \nThey already tried several locations but all of them haven't been profitable and were closed a few months after the opening.\nNow they ask a data scientist to help them chose their next location."
        },
        {
            "metadata": {},
            "cell_type": "markdown",
            "source": "<h3>Data</h3>\nI will use the data from week 3 and a data frame which includes the neighborhood and the ten most common venues."
        },
        {
            "metadata": {},
            "cell_type": "markdown",
            "source": "<h3>Methodology</h3>\nAfter performing the steps to get the data frame with the attributes named in the data section(already explained in the week 3 assignment), I use a machine-learning algorithm(Logistic Regression) with the most common venues as the independent variables and as a dependent variable a boolean which shows if it's a good place to build a new chain-store.\n"
        },
        {
            "metadata": {},
            "cell_type": "markdown",
            "source": "<h3>Results</h3>\nThe algorithm returns that 2 neighborhoods will be profitable when a chain-store will be opened. Namely The Beaches West, India Bazaar, and Studio District. "
        },
        {
            "metadata": {},
            "cell_type": "markdown",
            "source": "<h3>Discussion</h3>\nThe fast-food chain should open a store in both neighborhoods."
        },
        {
            "metadata": {},
            "cell_type": "code",
            "source": "",
            "execution_count": null,
            "outputs": []
        }
    ],
    "metadata": {
        "kernelspec": {
            "name": "python3",
            "display_name": "Python 3.6",
            "language": "python"
        },
        "language_info": {
            "name": "python",
            "version": "3.6.8",
            "mimetype": "text/x-python",
            "codemirror_mode": {
                "name": "ipython",
                "version": 3
            },
            "pygments_lexer": "ipython3",
            "nbconvert_exporter": "python",
            "file_extension": ".py"
        }
    },
    "nbformat": 4,
    "nbformat_minor": 1
}